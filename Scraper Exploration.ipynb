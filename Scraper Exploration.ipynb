{
 "cells": [
  {
   "cell_type": "markdown",
   "metadata": {},
   "source": [
    "# Exploring the scraper package"
   ]
  },
  {
   "cell_type": "markdown",
   "metadata": {},
   "source": [
    "https://pypi.org/project/basketball-reference-web-scraper/"
   ]
  },
  {
   "cell_type": "code",
   "execution_count": 1,
   "metadata": {
    "scrolled": true
   },
   "outputs": [
    {
     "name": "stdout",
     "output_type": "stream",
     "text": [
      "Collecting basketball-reference-web-scraper\n",
      "  Using cached https://files.pythonhosted.org/packages/26/5a/330c2de72da7d4a91198756ce09fea995f8772f4104d1384e8d317f39783/basketball_reference_web_scraper-4.9.3.tar.gz\n",
      "Collecting certifi==2018.10.15 (from basketball-reference-web-scraper)\n",
      "  Using cached https://files.pythonhosted.org/packages/56/9d/1d02dd80bc4cd955f98980f28c5ee2200e1209292d5f9e9cc8d030d18655/certifi-2018.10.15-py2.py3-none-any.whl\n",
      "Requirement already satisfied: chardet==3.0.4 in /Users/alexandrebucquet/opt/anaconda3/lib/python3.7/site-packages (from basketball-reference-web-scraper) (3.0.4)\n",
      "Collecting idna==2.7 (from basketball-reference-web-scraper)\n",
      "\u001b[?25l  Downloading https://files.pythonhosted.org/packages/4b/2a/0276479a4b3caeb8a8c1af2f8e4355746a97fab05a372e4a2c6a6b876165/idna-2.7-py2.py3-none-any.whl (58kB)\n",
      "\u001b[K     |████████████████████████████████| 61kB 1.6MB/s eta 0:00:01\n",
      "\u001b[?25hCollecting lxml==4.5.1 (from basketball-reference-web-scraper)\n",
      "\u001b[?25l  Downloading https://files.pythonhosted.org/packages/01/89/cb97f90a061106a526ff22358f186bad6d0505d0e02559aeabdd2f906f8e/lxml-4.5.1-cp37-cp37m-macosx_10_9_x86_64.whl (4.4MB)\n",
      "\u001b[K     |████████████████████████████████| 4.4MB 4.4MB/s eta 0:00:01     |███████████████████████████████▊| 4.4MB 4.4MB/s eta 0:00:01\n",
      "\u001b[?25hCollecting pytz==2018.6 (from basketball-reference-web-scraper)\n",
      "\u001b[?25l  Downloading https://files.pythonhosted.org/packages/52/8b/876c5745f617630be90cfb8fafe363c6d7204b176dc707d1805d1e9a0a35/pytz-2018.6-py2.py3-none-any.whl (507kB)\n",
      "\u001b[K     |████████████████████████████████| 512kB 10.4MB/s eta 0:00:01\n",
      "\u001b[?25hCollecting requests==2.20.0 (from basketball-reference-web-scraper)\n",
      "\u001b[?25l  Downloading https://files.pythonhosted.org/packages/f1/ca/10332a30cb25b627192b4ea272c351bce3ca1091e541245cccbace6051d8/requests-2.20.0-py2.py3-none-any.whl (60kB)\n",
      "\u001b[K     |████████████████████████████████| 61kB 6.6MB/s eta 0:00:011\n",
      "\u001b[?25hCollecting urllib3==1.24.3 (from basketball-reference-web-scraper)\n",
      "\u001b[?25l  Downloading https://files.pythonhosted.org/packages/01/11/525b02e4acc0c747de8b6ccdab376331597c569c42ea66ab0a1dbd36eca2/urllib3-1.24.3-py2.py3-none-any.whl (118kB)\n",
      "\u001b[K     |████████████████████████████████| 122kB 8.8MB/s eta 0:00:01\n",
      "\u001b[?25hBuilding wheels for collected packages: basketball-reference-web-scraper\n",
      "  Building wheel for basketball-reference-web-scraper (setup.py) ... \u001b[?25ldone\n",
      "\u001b[?25h  Created wheel for basketball-reference-web-scraper: filename=basketball_reference_web_scraper-4.9.3-cp37-none-any.whl size=23284 sha256=41af1c2899f0f01ed1ae87506c98c6c441cb2b43805db982256bd684d6b59ee2\n",
      "  Stored in directory: /Users/alexandrebucquet/Library/Caches/pip/wheels/a3/16/9e/8f175fc1bc4f9e818f6c693f4b8b61c98967166d19eaac673e\n",
      "Successfully built basketball-reference-web-scraper\n",
      "Installing collected packages: certifi, idna, lxml, pytz, urllib3, requests, basketball-reference-web-scraper\n",
      "  Found existing installation: certifi 2019.9.11\n",
      "    Uninstalling certifi-2019.9.11:\n",
      "      Successfully uninstalled certifi-2019.9.11\n",
      "  Found existing installation: idna 2.8\n",
      "    Uninstalling idna-2.8:\n",
      "      Successfully uninstalled idna-2.8\n",
      "  Found existing installation: lxml 4.4.1\n",
      "    Uninstalling lxml-4.4.1:\n",
      "      Successfully uninstalled lxml-4.4.1\n",
      "  Found existing installation: pytz 2019.3\n",
      "    Uninstalling pytz-2019.3:\n",
      "      Successfully uninstalled pytz-2019.3\n",
      "  Found existing installation: urllib3 1.24.2\n",
      "    Uninstalling urllib3-1.24.2:\n",
      "      Successfully uninstalled urllib3-1.24.2\n",
      "  Found existing installation: requests 2.22.0\n",
      "    Uninstalling requests-2.22.0:\n",
      "      Successfully uninstalled requests-2.22.0\n",
      "Successfully installed basketball-reference-web-scraper-4.9.3 certifi-2018.10.15 idna-2.7 lxml-4.5.1 pytz-2018.6 requests-2.20.0 urllib3-1.24.3\n"
     ]
    }
   ],
   "source": [
    "!pip install basketball-reference-web-scraper"
   ]
  },
  {
   "cell_type": "code",
   "execution_count": 16,
   "metadata": {},
   "outputs": [],
   "source": [
    "from basketball_reference_web_scraper import client\n",
    "from basketball_reference_web_scraper.data import Team\n",
    "from basketball_reference_web_scraper.data import OutputType\n",
    "\n",
    "import pandas as pd\n",
    "from tqdm import tqdm\n",
    "import os"
   ]
  },
  {
   "cell_type": "code",
   "execution_count": 9,
   "metadata": {},
   "outputs": [],
   "source": [
    "for year in range(1999, 2021):\n",
    "    client.season_schedule(\n",
    "        season_end_year=year,\n",
    "        output_type=OutputType.CSV,\n",
    "        output_file_path=\"data/schedules/{}.csv\".format(year)\n",
    "    )"
   ]
  },
  {
   "cell_type": "code",
   "execution_count": 10,
   "metadata": {},
   "outputs": [
    {
     "data": {
      "text/html": [
       "<div>\n",
       "<style scoped>\n",
       "    .dataframe tbody tr th:only-of-type {\n",
       "        vertical-align: middle;\n",
       "    }\n",
       "\n",
       "    .dataframe tbody tr th {\n",
       "        vertical-align: top;\n",
       "    }\n",
       "\n",
       "    .dataframe thead th {\n",
       "        text-align: right;\n",
       "    }\n",
       "</style>\n",
       "<table border=\"1\" class=\"dataframe\">\n",
       "  <thead>\n",
       "    <tr style=\"text-align: right;\">\n",
       "      <th></th>\n",
       "      <th>start_time</th>\n",
       "      <th>away_team</th>\n",
       "      <th>away_team_score</th>\n",
       "      <th>home_team</th>\n",
       "      <th>home_team_score</th>\n",
       "    </tr>\n",
       "  </thead>\n",
       "  <tbody>\n",
       "    <tr>\n",
       "      <th>0</th>\n",
       "      <td>2017-10-18 00:01:00+00:00</td>\n",
       "      <td>BOSTON CELTICS</td>\n",
       "      <td>99</td>\n",
       "      <td>CLEVELAND CAVALIERS</td>\n",
       "      <td>102</td>\n",
       "    </tr>\n",
       "    <tr>\n",
       "      <th>1</th>\n",
       "      <td>2017-10-18 02:30:00+00:00</td>\n",
       "      <td>HOUSTON ROCKETS</td>\n",
       "      <td>122</td>\n",
       "      <td>GOLDEN STATE WARRIORS</td>\n",
       "      <td>121</td>\n",
       "    </tr>\n",
       "    <tr>\n",
       "      <th>2</th>\n",
       "      <td>2017-10-18 23:00:00+00:00</td>\n",
       "      <td>CHARLOTTE HORNETS</td>\n",
       "      <td>90</td>\n",
       "      <td>DETROIT PISTONS</td>\n",
       "      <td>102</td>\n",
       "    </tr>\n",
       "    <tr>\n",
       "      <th>3</th>\n",
       "      <td>2017-10-18 23:00:00+00:00</td>\n",
       "      <td>BROOKLYN NETS</td>\n",
       "      <td>131</td>\n",
       "      <td>INDIANA PACERS</td>\n",
       "      <td>140</td>\n",
       "    </tr>\n",
       "    <tr>\n",
       "      <th>4</th>\n",
       "      <td>2017-10-18 23:00:00+00:00</td>\n",
       "      <td>MIAMI HEAT</td>\n",
       "      <td>109</td>\n",
       "      <td>ORLANDO MAGIC</td>\n",
       "      <td>116</td>\n",
       "    </tr>\n",
       "  </tbody>\n",
       "</table>\n",
       "</div>"
      ],
      "text/plain": [
       "                  start_time          away_team  away_team_score  \\\n",
       "0  2017-10-18 00:01:00+00:00     BOSTON CELTICS               99   \n",
       "1  2017-10-18 02:30:00+00:00    HOUSTON ROCKETS              122   \n",
       "2  2017-10-18 23:00:00+00:00  CHARLOTTE HORNETS               90   \n",
       "3  2017-10-18 23:00:00+00:00      BROOKLYN NETS              131   \n",
       "4  2017-10-18 23:00:00+00:00         MIAMI HEAT              109   \n",
       "\n",
       "               home_team  home_team_score  \n",
       "0    CLEVELAND CAVALIERS              102  \n",
       "1  GOLDEN STATE WARRIORS              121  \n",
       "2        DETROIT PISTONS              102  \n",
       "3         INDIANA PACERS              140  \n",
       "4          ORLANDO MAGIC              116  "
      ]
     },
     "execution_count": 10,
     "metadata": {},
     "output_type": "execute_result"
    }
   ],
   "source": [
    "pd.read_csv(\"data/schedules/2018.csv\").head()"
   ]
  },
  {
   "cell_type": "code",
   "execution_count": 19,
   "metadata": {},
   "outputs": [],
   "source": [
    "os.mkdir(\"data/box_scores/2019\")"
   ]
  },
  {
   "cell_type": "code",
   "execution_count": 22,
   "metadata": {},
   "outputs": [],
   "source": [
    "import time\n",
    "time.sleep(2)"
   ]
  },
  {
   "cell_type": "code",
   "execution_count": 27,
   "metadata": {},
   "outputs": [
    {
     "name": "stderr",
     "output_type": "stream",
     "text": [
      "\n",
      "\n",
      "\n",
      "  0%|          | 0/12 [00:00<?, ?it/s]\u001b[A\u001b[A\u001b[A\n",
      "\n",
      "\n",
      "  8%|▊         | 1/12 [01:31<16:44, 91.34s/it]\u001b[A\u001b[A\u001b[A\n",
      "\n",
      "\n",
      " 17%|█▋        | 2/12 [02:44<14:19, 85.94s/it]\u001b[A\u001b[A\u001b[A\n",
      "\n",
      "\n",
      " 25%|██▌       | 3/12 [04:06<12:42, 84.75s/it]\u001b[A\u001b[A\u001b[A\n",
      "\n",
      "\n",
      " 33%|███▎      | 4/12 [04:59<10:01, 75.15s/it]\u001b[A\u001b[A\u001b[A\n",
      "\n",
      "\n",
      " 42%|████▏     | 5/12 [05:19<06:50, 58.71s/it]\u001b[A\u001b[A\u001b[A\n",
      "\n",
      "\n",
      " 50%|█████     | 6/12 [05:30<04:26, 44.38s/it]\u001b[A\u001b[A\u001b[A\n",
      "\n",
      "\n",
      " 58%|█████▊    | 7/12 [05:36<02:44, 32.93s/it]\u001b[A\u001b[A\u001b[A\n",
      "\n",
      "\n",
      " 67%|██████▋   | 8/12 [05:45<01:41, 25.48s/it]\u001b[A\u001b[A\u001b[A\n",
      "\n",
      "\n",
      " 75%|███████▌  | 9/12 [05:58<01:05, 21.74s/it]\u001b[A\u001b[A\u001b[A\n",
      "\n",
      "\n",
      " 83%|████████▎ | 10/12 [06:14<00:40, 20.23s/it]\u001b[A\u001b[A\u001b[A\n",
      "\n",
      "\n",
      " 92%|█████████▏| 11/12 [07:30<00:36, 36.76s/it]\u001b[A\u001b[A\u001b[A\n",
      "\n",
      "\n",
      "100%|██████████| 12/12 [08:35<00:00, 42.98s/it]\u001b[A\u001b[A\u001b[A\n"
     ]
    }
   ],
   "source": [
    "year = 2003\n",
    "for month in tqdm(range(1, 13)):\n",
    "    for day in range(1, 32):\n",
    "        filename = \"data/box_scores/{}/{}/{}.csv\".format(year, month, day)\n",
    "        if not os.path.exists(\"data/box_scores/{}\".format(year)):\n",
    "            os.mkdir(\"data/box_scores/{}\".format(year))\n",
    "        if not os.path.exists(\"data/box_scores/{}/{}\".format(year, month)):\n",
    "            os.mkdir(\"data/box_scores/{}/{}\".format(year, month))\n",
    "\n",
    "        client.team_box_scores(\n",
    "            year=year, month=month, day=day,\n",
    "            output_type=OutputType.CSV,\n",
    "            output_file_path=\"data/box_scores/{}/{}/{}.csv\".format(year, month, day)\n",
    "        )"
   ]
  },
  {
   "cell_type": "code",
   "execution_count": 21,
   "metadata": {},
   "outputs": [
    {
     "name": "stdout",
     "output_type": "stream",
     "text": [
      "2000 2 2\n"
     ]
    }
   ],
   "source": [
    "print(year, month, day)"
   ]
  },
  {
   "cell_type": "code",
   "execution_count": 11,
   "metadata": {},
   "outputs": [],
   "source": [
    "client.team_box_scores(\n",
    "    year=year, month=month, day=day,\n",
    "    output_type=OutputType.CSV,\n",
    "    output_file_path=\"data/box_scores/{}_{}_{}.csv\".format(year, month, day)\n",
    ")"
   ]
  },
  {
   "cell_type": "code",
   "execution_count": 13,
   "metadata": {},
   "outputs": [
    {
     "data": {
      "text/html": [
       "<div>\n",
       "<style scoped>\n",
       "    .dataframe tbody tr th:only-of-type {\n",
       "        vertical-align: middle;\n",
       "    }\n",
       "\n",
       "    .dataframe tbody tr th {\n",
       "        vertical-align: top;\n",
       "    }\n",
       "\n",
       "    .dataframe thead th {\n",
       "        text-align: right;\n",
       "    }\n",
       "</style>\n",
       "<table border=\"1\" class=\"dataframe\">\n",
       "  <thead>\n",
       "    <tr style=\"text-align: right;\">\n",
       "      <th></th>\n",
       "      <th>team</th>\n",
       "      <th>minutes_played</th>\n",
       "      <th>made_field_goals</th>\n",
       "      <th>attempted_field_goals</th>\n",
       "      <th>made_three_point_field_goals</th>\n",
       "      <th>attempted_three_point_field_goals</th>\n",
       "      <th>made_free_throws</th>\n",
       "      <th>attempted_free_throws</th>\n",
       "      <th>offensive_rebounds</th>\n",
       "      <th>defensive_rebounds</th>\n",
       "      <th>assists</th>\n",
       "      <th>steals</th>\n",
       "      <th>blocks</th>\n",
       "      <th>turnovers</th>\n",
       "      <th>personal_fouls</th>\n",
       "    </tr>\n",
       "  </thead>\n",
       "  <tbody>\n",
       "  </tbody>\n",
       "</table>\n",
       "</div>"
      ],
      "text/plain": [
       "Empty DataFrame\n",
       "Columns: [team, minutes_played, made_field_goals, attempted_field_goals, made_three_point_field_goals, attempted_three_point_field_goals, made_free_throws, attempted_free_throws, offensive_rebounds, defensive_rebounds, assists, steals, blocks, turnovers, personal_fouls]\n",
       "Index: []"
      ]
     },
     "execution_count": 13,
     "metadata": {},
     "output_type": "execute_result"
    }
   ],
   "source": [
    "data = pd.read_csv(\"data/box_scores/2018_10_06_ALL_GAMES.csv\")\n",
    "data.head()"
   ]
  },
  {
   "cell_type": "code",
   "execution_count": null,
   "metadata": {},
   "outputs": [],
   "source": [
    "# Get all player box scores for January 1st, 2017 \n",
    "client.player_box_scores(day=1, month=1, year=2017)\n",
    "\n",
    "# Get all player box scores for January 1st, 2017 in JSON format\n",
    "client.player_box_scores(day=1, month=1, year=2017, output_type=OutputType.JSON)\n",
    "\n",
    "# Output all player box scores for January 1st, 2017 in JSON format to 1_1_2017_box_scores.json\n",
    "client.player_box_scores(day=1, month=1, year=2017, output_type=OutputType.JSON, output_file_path=\"./1_1_2017_box_scores.json\")\n",
    "\n",
    "# Output all player box scores for January 1st, 2017 in JSON format to 1_1_2017_box_scores.csv\n",
    "client.player_box_scores(day=1, month=1, year=2017, output_type=OutputType.CSV, output_file_path=\"./1_1_2017_box_scores.csv\")"
   ]
  }
 ],
 "metadata": {
  "kernelspec": {
   "display_name": "sandbox (python 3.7)",
   "language": "python",
   "name": "myenv"
  },
  "language_info": {
   "codemirror_mode": {
    "name": "ipython",
    "version": 3
   },
   "file_extension": ".py",
   "mimetype": "text/x-python",
   "name": "python",
   "nbconvert_exporter": "python",
   "pygments_lexer": "ipython3",
   "version": "3.7.5"
  }
 },
 "nbformat": 4,
 "nbformat_minor": 2
}
